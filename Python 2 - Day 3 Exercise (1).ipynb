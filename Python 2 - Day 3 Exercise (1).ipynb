{
 "cells": [
  {
   "cell_type": "markdown",
   "metadata": {},
   "source": [
    "Exercise 1: \n",
    "\n",
    "Write a function that accepts two parameters: a city name and a country name. the function should return a single string of the form City, Country like <i>Anchorage, United States</i>. \n",
    "\n",
    "Using a doctest method, write a test case and make sure your test passes.\n"
   ]
  },
  {
   "cell_type": "code",
   "execution_count": 1,
   "metadata": {},
   "outputs": [
    {
     "name": "stdout",
     "output_type": "stream",
     "text": [
      "Tacoma, United States\n"
     ]
    }
   ],
   "source": [
    "def city_country(city, country):\n",
    "    \n",
    "    \"\"\"Returns a single string of of the form 'City, Country'.\"\"\"\n",
    "    \n",
    "    return f'{city}, {country}' \n",
    "\n",
    "print(city_country('Tacoma', 'United States'))\n"
   ]
  },
  {
   "cell_type": "code",
   "execution_count": 2,
   "metadata": {},
   "outputs": [
    {
     "name": "stdout",
     "output_type": "stream",
     "text": [
      "Returns a single string of of the form 'City, Country'.\n"
     ]
    }
   ],
   "source": [
    "print(city_country.__doc__)"
   ]
  },
  {
   "cell_type": "code",
   "execution_count": 3,
   "metadata": {},
   "outputs": [],
   "source": [
    "import doctest"
   ]
  },
  {
   "cell_type": "code",
   "execution_count": 4,
   "metadata": {},
   "outputs": [],
   "source": [
    "def city_country(city, country):\n",
    "    \n",
    "    \"\"\"Returns a single string of of the form 'City, Country'.\n",
    "    \n",
    "    >>> city_country('Tacoma','United States')\n",
    "    'Tacoma, United States'\n",
    "   \n",
    "    \"\"\"\n",
    "    return f'{city}, {country}'"
   ]
  },
  {
   "cell_type": "code",
   "execution_count": 5,
   "metadata": {},
   "outputs": [
    {
     "name": "stdout",
     "output_type": "stream",
     "text": [
      "TestResults(failed=0, attempted=1)\n"
     ]
    }
   ],
   "source": [
    "print(doctest.testmod())"
   ]
  },
  {
   "cell_type": "markdown",
   "metadata": {},
   "source": [
    "Exercise 2:\n",
    "\n",
    "Modify your function from Exercise 1 so it requires a third parameter, population. It should now return a signle string of the form City, Country - population xxx, such as <i>\"Anchorage, United States - population 288,000\"</i>. Run your test again and make sure it fails.\n",
    "\n",
    "Modify the function so the population parameter is optional. Run your previous test case and make sure it passes this time.\n",
    "\n",
    "Write a second test that verifies you can call your function with the values <i>Anchorage, United States,and 288000</i>. Run the test and make sure all your test cases pass."
   ]
  },
  {
   "cell_type": "code",
   "execution_count": 6,
   "metadata": {},
   "outputs": [
    {
     "name": "stdout",
     "output_type": "stream",
     "text": [
      "Tacoma, United States - population 200,000\n"
     ]
    }
   ],
   "source": [
    "def city_country_pop(city,country,population):\n",
    "    \n",
    "    \"\"\"Returns a single string of of the form 'City, Country - population xxx'.\"\"\"\n",
    "    \n",
    "    return f'{city}, {country} - population {population:,}'\n",
    "\n",
    "print(city_country_pop('Tacoma', 'United States', 200000))\n"
   ]
  },
  {
   "cell_type": "code",
   "execution_count": 7,
   "metadata": {},
   "outputs": [
    {
     "name": "stdout",
     "output_type": "stream",
     "text": [
      "Returns a single string of of the form 'City, Country - population xxx'.\n"
     ]
    }
   ],
   "source": [
    "print(city_country_pop.__doc__)"
   ]
  },
  {
   "cell_type": "code",
   "execution_count": 8,
   "metadata": {},
   "outputs": [],
   "source": [
    "def city_country_pop(city,country,population):\n",
    "   #Failed test entry \n",
    "   \n",
    "    \"\"\"Returns a single string of of the form 'City, Country - population xxx'.\n",
    "    \n",
    "    >>> city_country_pop('Tacoma', 'United States', 200000)\n",
    "    Tacoma, United States - population 100,000\n",
    "    \"\"\"\n",
    "    return f'{city},{country} - population {population:,}'"
   ]
  },
  {
   "cell_type": "code",
   "execution_count": 9,
   "metadata": {},
   "outputs": [
    {
     "name": "stdout",
     "output_type": "stream",
     "text": [
      "**********************************************************************\n",
      "File \"__main__\", line 4, in __main__.city_country_pop\n",
      "Failed example:\n",
      "    city_country_pop('Tacoma', 'United States', 200000)\n",
      "Expected:\n",
      "    Tacoma, United States - population 100,000\n",
      "Got:\n",
      "    'Tacoma,United States - population 200,000'\n",
      "**********************************************************************\n",
      "1 items had failures:\n",
      "   1 of   1 in __main__.city_country_pop\n",
      "***Test Failed*** 1 failures.\n",
      "TestResults(failed=1, attempted=2)\n"
     ]
    }
   ],
   "source": [
    "print(doctest.testmod())"
   ]
  },
  {
   "cell_type": "code",
   "execution_count": 15,
   "metadata": {},
   "outputs": [
    {
     "name": "stdout",
     "output_type": "stream",
     "text": [
      "Tacoma, United States - population \n"
     ]
    }
   ],
   "source": [
    "def city_country_pop1(city, country, population = ''):\n",
    "   #optional population parameter population=''\n",
    "    \n",
    "    \"\"\"Returns a single string of of the form 'City, Country - population xxx [population parameter is optional.]'.\"\"\"\n",
    "    \n",
    "    return f'{city}, {country} - population {population}'\n",
    "\n",
    "print(city_country_pop1('Tacoma', 'United States'))"
   ]
  },
  {
   "cell_type": "code",
   "execution_count": 16,
   "metadata": {},
   "outputs": [],
   "source": [
    "def city_country_pop1(city, country, population=''):\n",
    "   #Optional population entry. Test pass.\n",
    "   \n",
    "    \"\"\"Returns a single string of of the form 'City, Country - population xxx'.\n",
    "    \n",
    "    >>> city_country_pop1('Tacoma', 'United States')\n",
    "    'Tacoma, United States - population '\n",
    "    \"\"\"\n",
    "    return f'{city}, {country} - population {population}'"
   ]
  },
  {
   "cell_type": "code",
   "execution_count": 17,
   "metadata": {},
   "outputs": [
    {
     "name": "stdout",
     "output_type": "stream",
     "text": [
      "**********************************************************************\n",
      "File \"__main__\", line 4, in __main__.city_country_pop\n",
      "Failed example:\n",
      "    city_country_pop('Tacoma', 'United States', 200000)\n",
      "Expected:\n",
      "    Tacoma, United States - population 100,000\n",
      "Got:\n",
      "    'Tacoma,United States - population 200,000'\n",
      "**********************************************************************\n",
      "1 items had failures:\n",
      "   1 of   1 in __main__.city_country_pop\n",
      "***Test Failed*** 1 failures.\n",
      "TestResults(failed=1, attempted=3)\n"
     ]
    }
   ],
   "source": [
    "print(doctest.testmod())"
   ]
  },
  {
   "cell_type": "markdown",
   "metadata": {},
   "source": [
    "Exercise 3: \n",
    "\n",
    "Save above function in <b>city_functions.py</b>. Write test cases for the function using unittest module and save it to a file called <b>test_cities.py</b>. \n",
    "\n",
    "    Write a method called test_city_country() to verify that calling your function with city and country parameters results in the correct string. \n",
    "\n",
    "    Write a second test called test_city_country_population() that verifies you can call your function with city, country, and population parameters results in the correct string. \n",
    "    \n",
    "Run test_cities.py and make sure all your tests pass."
   ]
  },
  {
   "cell_type": "code",
   "execution_count": null,
   "metadata": {},
   "outputs": [],
   "source": [
    "#The code below was saved under city_functions.py. This file was used for the Unittest.\n",
    "\n",
    "def city_country_pop1(city, country, population=''):\n",
    "   #Optional population entry. Test pass.\n",
    "\n",
    "   return f'{city}, {country} - population {population}'"
   ]
  },
  {
   "cell_type": "code",
   "execution_count": null,
   "metadata": {},
   "outputs": [],
   "source": [
    "#The code below was saved under test_cities.py. This file was used for unittest.\n",
    "\n",
    "import unittest\n",
    "from city_functions import city_country_pop1\n",
    "\n",
    "class test_city_country(unittest.TestCase):\n",
    "    \"\"\"Tests for city_functions.py \"\"\"\n",
    "\n",
    "    def test_city_country(self):\n",
    "        \"\"\"Testing with no population\"\"\"\n",
    "\n",
    "        result = city_country_pop1('Tacoma', 'United States')\n",
    "        self.assertEqual(result, 'Tacoma, United States - population ')\n",
    "\n",
    "    def test_city_country_population(self):\n",
    "        \"\"\"Testing with population\"\"\"\n",
    "        result = city_country_pop1('Tacoma', 'United States', 200000)\n",
    "        self.assertEqual(result, 'Tacoma, United States - population 200000')\n",
    "\n",
    "unittest.main()\n"
   ]
  },
  {
   "cell_type": "markdown",
   "metadata": {},
   "source": [
    "Exercise 4:\n",
    "\n",
    "Write a class called Employee with private attributes to store a first name, a last name, and an annual salary. Write a method called give_raise() that adds 2% (of employee's current annual salary) to the annual salary by default but also accepts a different raise rate.\n",
    "\n",
    "Write a test case for Employee. Write two test methods, <b>test_give_default_raise()</b> and <b>test_give_custom_raise()</b>. Use the <b>setUp()</b> method so you don't have to create a new employee instance in each test method. \n",
    "\n",
    "Run your test case and make sure all tests pass.\n",
    "    \n",
    "    "
   ]
  },
  {
   "cell_type": "code",
   "execution_count": 30,
   "metadata": {},
   "outputs": [],
   "source": [
    "class Employee:\n",
    "    def __init__(self, first_name, last_name, annual_salary, salary_raise=0.02):\n",
    "        self.__first_name = first_name\n",
    "        self.__last_name = last_name\n",
    "        self.__annual_salary = annual_salary\n",
    "        self.__salary_raise = salary_raise\n",
    "\n",
    "\n",
    "    def give_raise(self):\n",
    "        #Calculates the total pay with the salary and raise\n",
    "\n",
    "        annual_sal = float(self.__annual_salary)\n",
    "        sal_raise = float(self.__salary_raise)\n",
    "        total_pay = annual_sal + (annual_sal*sal_raise)\n",
    "\n",
    "        return total_pay\n",
    "\n",
    "    def get_info(self):\n",
    "        return (f'Name:\\t\\t\\t\\t {self.__first_name} {self.__last_name}\\n' +\n",
    "               f'Annual salary:\\t\\t\\t {self.__annual_salary:,.2f} \\n' +\n",
    "               f'Annual salary with raise:\\t {self.give_raise():,.2f}')    \n",
    "    "
   ]
  },
  {
   "cell_type": "code",
   "execution_count": 31,
   "metadata": {},
   "outputs": [
    {
     "ename": "ModuleNotFoundError",
     "evalue": "No module named 'employee'",
     "output_type": "error",
     "traceback": [
      "\u001b[1;31m---------------------------------------------------------------------------\u001b[0m",
      "\u001b[1;31mModuleNotFoundError\u001b[0m                       Traceback (most recent call last)",
      "\u001b[1;32m<ipython-input-31-e6d7dda50f3e>\u001b[0m in \u001b[0;36m<module>\u001b[1;34m\u001b[0m\n\u001b[0;32m      1\u001b[0m \u001b[1;32mimport\u001b[0m \u001b[0munittest\u001b[0m\u001b[1;33m\u001b[0m\u001b[1;33m\u001b[0m\u001b[0m\n\u001b[1;32m----> 2\u001b[1;33m \u001b[1;32mfrom\u001b[0m \u001b[0memployee\u001b[0m \u001b[1;32mimport\u001b[0m \u001b[0mEmployee\u001b[0m\u001b[1;33m\u001b[0m\u001b[1;33m\u001b[0m\u001b[0m\n\u001b[0m\u001b[0;32m      3\u001b[0m \u001b[1;33m\u001b[0m\u001b[0m\n\u001b[0;32m      4\u001b[0m \u001b[1;32mclass\u001b[0m \u001b[0mEmployeeTestCase\u001b[0m\u001b[1;33m(\u001b[0m\u001b[0munittest\u001b[0m\u001b[1;33m.\u001b[0m\u001b[0mTestCase\u001b[0m\u001b[1;33m)\u001b[0m\u001b[1;33m:\u001b[0m\u001b[1;33m\u001b[0m\u001b[1;33m\u001b[0m\u001b[0m\n\u001b[0;32m      5\u001b[0m \u001b[1;33m\u001b[0m\u001b[0m\n",
      "\u001b[1;31mModuleNotFoundError\u001b[0m: No module named 'employee'"
     ]
    }
   ],
   "source": [
    "import unittest\n",
    "from employee import Employee\n",
    "\n",
    "class EmployeeTestCase(unittest.TestCase):\n",
    "\n",
    "    def setUp(self):\n",
    "        #setting standard raise rate and salary\n",
    "        self.default_raise = 0.02\n",
    "        self.salary = 80000\n",
    "\n",
    "        #instantiating the Employee class with default salary and raise rate\n",
    "        self.my_raise = Employee('Dominick', 'Budzisz',self.salary, self.default_raise)\n",
    "\n",
    "        #self.assertIn variable required a string for testing if output was there. default_raise1 is a formatted string used to search for the correct total salary during testing.\n",
    "        self.default_raise1 = f'{(self.salary + (self.salary*self.default_raise)):,.2f}'\n",
    "\n",
    "        #Other raise rates to test if multiple rates can be accepted.\n",
    "        self.other_raise = [0.08, 0.1,0.9]\n",
    "\n",
    "    def test_give_default_raise(self):\n",
    "        self.assertIn(self.default_raise1, self.my_raise.get_info())\n",
    "\n",
    "    def test_give_custom_raise(self):\n",
    "        #for loop to pass the other raise rates\n",
    "\n",
    "        for item in self.other_raise:\n",
    "            self.default_raise = item\n",
    "            self.assertIn(self.default_raise1, self.my_raise.get_info())\n",
    "\n",
    "\n",
    "\n",
    "\n",
    "unittest.main()\n",
    "  "
   ]
  },
  {
   "cell_type": "code",
   "execution_count": null,
   "metadata": {},
   "outputs": [],
   "source": []
  }
 ],
 "metadata": {
  "kernelspec": {
   "display_name": "Python 3",
   "language": "python",
   "name": "python3"
  },
  "language_info": {
   "codemirror_mode": {
    "name": "ipython",
    "version": 3
   },
   "file_extension": ".py",
   "mimetype": "text/x-python",
   "name": "python",
   "nbconvert_exporter": "python",
   "pygments_lexer": "ipython3",
   "version": "3.8.3"
  }
 },
 "nbformat": 4,
 "nbformat_minor": 4
}
